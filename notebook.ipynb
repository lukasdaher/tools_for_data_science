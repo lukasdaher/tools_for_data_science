{
  "nbformat": 4,
  "nbformat_minor": 0,
  "metadata": {
    "colab": {
      "name": "Untitled1.ipynb",
      "provenance": []
    },
    "kernelspec": {
      "name": "python3",
      "display_name": "Python 3"
    },
    "language_info": {
      "name": "python"
    }
  },
  "cells": [
    {
      "cell_type": "markdown",
      "source": [
        "# My Jupyter Notebook on IBM Watson Studio\n"
      ],
      "metadata": {
        "id": "z5RE9XanND5h"
      }
    },
    {
      "cell_type": "markdown",
      "source": [
        "**Lucas Santos**\n",
        "\n",
        "I am a Student."
      ],
      "metadata": {
        "id": "kkpE_Y0aNO7g"
      }
    },
    {
      "cell_type": "markdown",
      "source": [
        "*Data Science leads us to the future. And I want my place in the future. That is why I am interested in data science.*"
      ],
      "metadata": {
        "id": "m0hwWqzNNVtT"
      }
    },
    {
      "cell_type": "markdown",
      "source": [
        "### In the next cell, we will calculate the value of 10 + 15"
      ],
      "metadata": {
        "id": "2uZF82TvN4mo"
      }
    },
    {
      "cell_type": "code",
      "source": [
        "10 + 15"
      ],
      "metadata": {
        "colab": {
          "base_uri": "https://localhost:8080/"
        },
        "id": "Vb6QxTFfOGtB",
        "outputId": "966bb316-0cb2-4029-d569-e71703e1522d"
      },
      "execution_count": 1,
      "outputs": [
        {
          "output_type": "execute_result",
          "data": {
            "text/plain": [
              "25"
            ]
          },
          "metadata": {},
          "execution_count": 1
        }
      ]
    },
    {
      "cell_type": "markdown",
      "source": [
        "---\n",
        "\n",
        "This is an example of bulleted list:\n",
        "\n",
        "*   Item A\n",
        "*   Item B\n",
        "\n",
        "---\n",
        "\n",
        "This is an example of numbered list:\n",
        "\n",
        "\n",
        "\n",
        "1.   Item 1\n",
        "2.   Item 2\n",
        "\n",
        "\n",
        "\n",
        "\n",
        "\n"
      ],
      "metadata": {
        "id": "rSgVxOKPOUPm"
      }
    }
  ]
}
